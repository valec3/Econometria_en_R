{
  "nbformat": 4,
  "nbformat_minor": 0,
  "metadata": {
    "colab": {
      "provenance": [],
      "authorship_tag": "ABX9TyOKdeLnz0vDta3XjsTq3YMl",
      "include_colab_link": true
    },
    "kernelspec": {
      "name": "ir",
      "display_name": "R"
    },
    "language_info": {
      "name": "R"
    }
  },
  "cells": [
    {
      "cell_type": "markdown",
      "metadata": {
        "id": "view-in-github",
        "colab_type": "text"
      },
      "source": [
        "<a href=\"https://colab.research.google.com/github/valec3/Econometria_en_R/blob/main/Econometria.ipynb\" target=\"_parent\"><img src=\"https://colab.research.google.com/assets/colab-badge.svg\" alt=\"Open In Colab\"/></a>"
      ]
    },
    {
      "cell_type": "markdown",
      "source": [
        "## Importar librerias"
      ],
      "metadata": {
        "id": "uiTDzJh3UZEU"
      }
    },
    {
      "cell_type": "code",
      "source": [
        "install.packages(\"tseries\")\n",
        "install.packages(\"readxl\")\n",
        "install.packages(\"PerformanceAnalytics\")\n",
        "install.packages(\"pysch\")"
      ],
      "metadata": {
        "colab": {
          "base_uri": "https://localhost:8080/"
        },
        "id": "_KlgoYkUUsnW",
        "outputId": "d6744e20-a3f2-46c0-cf96-b760b15ad2a7"
      },
      "execution_count": 5,
      "outputs": [
        {
          "output_type": "stream",
          "name": "stderr",
          "text": [
            "Installing package into ‘/usr/local/lib/R/site-library’\n",
            "(as ‘lib’ is unspecified)\n",
            "\n",
            "Installing package into ‘/usr/local/lib/R/site-library’\n",
            "(as ‘lib’ is unspecified)\n",
            "\n",
            "Installing package into ‘/usr/local/lib/R/site-library’\n",
            "(as ‘lib’ is unspecified)\n",
            "\n",
            "Installing package into ‘/usr/local/lib/R/site-library’\n",
            "(as ‘lib’ is unspecified)\n",
            "\n",
            "Warning message:\n",
            "“package ‘pysch’ is not available for this version of R\n",
            "\n",
            "A version of this package for your version of R might be available elsewhere,\n",
            "see the ideas at\n",
            "https://cran.r-project.org/doc/manuals/r-patched/R-admin.html#Installing-packages”\n"
          ]
        }
      ]
    },
    {
      "cell_type": "code",
      "source": [
        "install.packages(\"tseries\")"
      ],
      "metadata": {
        "id": "7XUlQvTKayDB"
      },
      "execution_count": null,
      "outputs": []
    },
    {
      "cell_type": "code",
      "source": [
        "library(tseries)\n",
        "library(readxl)\n",
        "# library(pysch)\n",
        "library(PerformanceAnalytics)"
      ],
      "metadata": {
        "colab": {
          "base_uri": "https://localhost:8080/"
        },
        "id": "cPJhlMnLUct4",
        "outputId": "e7d545e6-67e5-4899-9414-e3cfc8ae5600"
      },
      "execution_count": 7,
      "outputs": [
        {
          "output_type": "stream",
          "name": "stderr",
          "text": [
            "Loading required package: xts\n",
            "\n",
            "Loading required package: zoo\n",
            "\n",
            "\n",
            "Attaching package: ‘zoo’\n",
            "\n",
            "\n",
            "The following objects are masked from ‘package:base’:\n",
            "\n",
            "    as.Date, as.Date.numeric\n",
            "\n",
            "\n",
            "\n",
            "Attaching package: ‘PerformanceAnalytics’\n",
            "\n",
            "\n",
            "The following object is masked from ‘package:graphics’:\n",
            "\n",
            "    legend\n",
            "\n",
            "\n"
          ]
        }
      ]
    },
    {
      "cell_type": "code",
      "source": [
        "salarios <- read_excel(\"/base_final_salarios_wooldridge.xlsx\")"
      ],
      "metadata": {
        "id": "8UmXxbf2WkON"
      },
      "execution_count": 9,
      "outputs": []
    },
    {
      "cell_type": "code",
      "source": [
        "salarioDB <- read.csv(\"/base_salarios.csv\",header = TRUE)"
      ],
      "metadata": {
        "id": "RkMDXmjebFOs"
      },
      "execution_count": 14,
      "outputs": []
    },
    {
      "cell_type": "code",
      "execution_count": 15,
      "metadata": {
        "colab": {
          "base_uri": "https://localhost:8080/",
          "height": 255
        },
        "id": "2aL9ayrGThsg",
        "outputId": "f2308b43-fa74-449c-ee74-02ceaab3ed61"
      },
      "outputs": [
        {
          "output_type": "display_data",
          "data": {
            "text/html": [
              "<table class=\"dataframe\">\n",
              "<caption>A data.frame: 5 × 7</caption>\n",
              "<thead>\n",
              "\t<tr><th></th><th scope=col>y</th><th scope=col>sex</th><th scope=col>dex</th><th scope=col>lex</th><th scope=col>kwit</th><th scope=col>tenure</th><th scope=col>censored</th></tr>\n",
              "\t<tr><th></th><th scope=col>&lt;dbl&gt;</th><th scope=col>&lt;int&gt;</th><th scope=col>&lt;int&gt;</th><th scope=col>&lt;dbl&gt;</th><th scope=col>&lt;int&gt;</th><th scope=col>&lt;int&gt;</th><th scope=col>&lt;int&gt;</th></tr>\n",
              "</thead>\n",
              "<tbody>\n",
              "\t<tr><th scope=row>1</th><td>13.72579</td><td>0</td><td>38</td><td>10</td><td>0</td><td>525</td><td>1</td></tr>\n",
              "\t<tr><th scope=row>2</th><td>17.15373</td><td>1</td><td>55</td><td>11</td><td>0</td><td>259</td><td>1</td></tr>\n",
              "\t<tr><th scope=row>3</th><td>13.62992</td><td>1</td><td>45</td><td>12</td><td>0</td><td>192</td><td>0</td></tr>\n",
              "\t<tr><th scope=row>4</th><td>13.03998</td><td>1</td><td>41</td><td>11</td><td>0</td><td>211</td><td>1</td></tr>\n",
              "\t<tr><th scope=row>5</th><td>13.19510</td><td>1</td><td>42</td><td>10</td><td>0</td><td>395</td><td>1</td></tr>\n",
              "</tbody>\n",
              "</table>\n"
            ],
            "text/markdown": "\nA data.frame: 5 × 7\n\n| <!--/--> | y &lt;dbl&gt; | sex &lt;int&gt; | dex &lt;int&gt; | lex &lt;dbl&gt; | kwit &lt;int&gt; | tenure &lt;int&gt; | censored &lt;int&gt; |\n|---|---|---|---|---|---|---|---|\n| 1 | 13.72579 | 0 | 38 | 10 | 0 | 525 | 1 |\n| 2 | 17.15373 | 1 | 55 | 11 | 0 | 259 | 1 |\n| 3 | 13.62992 | 1 | 45 | 12 | 0 | 192 | 0 |\n| 4 | 13.03998 | 1 | 41 | 11 | 0 | 211 | 1 |\n| 5 | 13.19510 | 1 | 42 | 10 | 0 | 395 | 1 |\n\n",
            "text/latex": "A data.frame: 5 × 7\n\\begin{tabular}{r|lllllll}\n  & y & sex & dex & lex & kwit & tenure & censored\\\\\n  & <dbl> & <int> & <int> & <dbl> & <int> & <int> & <int>\\\\\n\\hline\n\t1 & 13.72579 & 0 & 38 & 10 & 0 & 525 & 1\\\\\n\t2 & 17.15373 & 1 & 55 & 11 & 0 & 259 & 1\\\\\n\t3 & 13.62992 & 1 & 45 & 12 & 0 & 192 & 0\\\\\n\t4 & 13.03998 & 1 & 41 & 11 & 0 & 211 & 1\\\\\n\t5 & 13.19510 & 1 & 42 & 10 & 0 & 395 & 1\\\\\n\\end{tabular}\n",
            "text/plain": [
              "  y        sex dex lex kwit tenure censored\n",
              "1 13.72579 0   38  10  0    525    1       \n",
              "2 17.15373 1   55  11  0    259    1       \n",
              "3 13.62992 1   45  12  0    192    0       \n",
              "4 13.03998 1   41  11  0    211    1       \n",
              "5 13.19510 1   42  10  0    395    1       "
            ]
          },
          "metadata": {}
        }
      ],
      "source": [
        "head(salarioDB,5)"
      ]
    },
    {
      "cell_type": "markdown",
      "source": [
        "## Estadisticos descriptivos"
      ],
      "metadata": {
        "id": "fiV5eIHNeoqk"
      }
    },
    {
      "cell_type": "code",
      "source": [
        "summary(salarioDB)"
      ],
      "metadata": {
        "colab": {
          "base_uri": "https://localhost:8080/",
          "height": 273
        },
        "id": "OgiIwZMXekf2",
        "outputId": "449ca39b-1d8c-4016-a39c-437ae19a8679"
      },
      "execution_count": 22,
      "outputs": [
        {
          "output_type": "display_data",
          "data": {
            "text/plain": [
              "       y              sex              dex             lex      \n",
              " Min.   :10.49   Min.   :0.0000   Min.   :23.00   Min.   : 8.0  \n",
              " 1st Qu.:13.68   1st Qu.:0.0000   1st Qu.:40.00   1st Qu.:12.0  \n",
              " Median :14.63   Median :1.0000   Median :45.00   Median :12.0  \n",
              " Mean   :14.67   Mean   :0.5666   Mean   :44.95   Mean   :12.1  \n",
              " 3rd Qu.:15.68   3rd Qu.:1.0000   3rd Qu.:50.00   3rd Qu.:12.0  \n",
              " Max.   :19.13   Max.   :1.0000   Max.   :65.00   Max.   :19.0  \n",
              "      kwit            tenure          censored     \n",
              " Min.   :0.0000   Min.   :  39.0   Min.   :0.0000  \n",
              " 1st Qu.:0.0000   1st Qu.: 176.5   1st Qu.:1.0000  \n",
              " Median :0.0000   Median : 311.0   Median :1.0000  \n",
              " Mean   :0.2679   Mean   : 412.9   Mean   :0.8097  \n",
              " 3rd Qu.:1.0000   3rd Qu.: 503.5   3rd Qu.:1.0000  \n",
              " Max.   :1.0000   Max.   :5223.0   Max.   :1.0000  "
            ]
          },
          "metadata": {}
        }
      ]
    },
    {
      "cell_type": "code",
      "source": [
        "sd(salarioDB$y)"
      ],
      "metadata": {
        "colab": {
          "base_uri": "https://localhost:8080/",
          "height": 34
        },
        "id": "d2OUe8QRc0cM",
        "outputId": "c408af9b-236a-471e-90a4-7839ba70695e"
      },
      "execution_count": 17,
      "outputs": [
        {
          "output_type": "display_data",
          "data": {
            "text/html": [
              "1.43232970001606"
            ],
            "text/markdown": "1.43232970001606",
            "text/latex": "1.43232970001606",
            "text/plain": [
              "[1] 1.43233"
            ]
          },
          "metadata": {}
        }
      ]
    },
    {
      "cell_type": "code",
      "source": [
        "hist(salarioDB$y)"
      ],
      "metadata": {
        "colab": {
          "base_uri": "https://localhost:8080/",
          "height": 437
        },
        "id": "mudw4HcgdFAB",
        "outputId": "1428dc95-bc11-423e-aeab-c2b2f6536a1f"
      },
      "execution_count": 18,
      "outputs": [
        {
          "output_type": "display_data",
          "data": {
            "text/plain": [
              "Plot with title “Histogram of salarioDB$y”"
            ],
            "image/png": "[encoded data removed]"
          },
          "metadata": {
            "image/png": {
              "width": 420,
              "height": 420
            }
          }
        }
      ]
    },
    {
      "cell_type": "markdown",
      "source": [
        "## Modelo"
      ],
      "metadata": {
        "id": "uEQ7bK7Geeuw"
      }
    },
    {
      "cell_type": "code",
      "source": [
        "mco <- lm(y~1+sex,data = salarioDB)\n",
        "summary(mco)"
      ],
      "metadata": {
        "colab": {
          "base_uri": "https://localhost:8080/",
          "height": 346
        },
        "id": "epEko0aFdvN3",
        "outputId": "2e977182-5fa5-4fd1-e1c7-e5c4eac53750"
      },
      "execution_count": 21,
      "outputs": [
        {
          "output_type": "display_data",
          "data": {
            "text/plain": [
              "\n",
              "Call:\n",
              "lm(formula = y ~ 1 + sex, data = salarioDB)\n",
              "\n",
              "Residuals:\n",
              "    Min      1Q  Median      3Q     Max \n",
              "-4.2349 -0.9959 -0.0367  0.9296  4.2486 \n",
              "\n",
              "Coefficients:\n",
              "            Estimate Std. Error t value Pr(>|t|)    \n",
              "(Intercept) 15.08367    0.08063 187.082  < 2e-16 ***\n",
              "sex         -0.72770    0.10711  -6.794 2.38e-11 ***\n",
              "---\n",
              "Signif. codes:  0 ‘***’ 0.001 ‘**’ 0.01 ‘*’ 0.05 ‘.’ 0.1 ‘ ’ 1\n",
              "\n",
              "Residual standard error: 1.387 on 681 degrees of freedom\n",
              "Multiple R-squared:  0.06348,\tAdjusted R-squared:  0.0621 \n",
              "F-statistic: 46.16 on 1 and 681 DF,  p-value: 2.382e-11\n"
            ]
          },
          "metadata": {}
        }
      ]
    },
    {
      "cell_type": "markdown",
      "source": [
        "**Vemos que si hay un efecto por parte de la variable sexo**"
      ],
      "metadata": {
        "id": "wiwkagj8ftWo"
      }
    },
    {
      "cell_type": "code",
      "source": [],
      "metadata": {
        "id": "nqk4z6coUXac"
      },
      "execution_count": null,
      "outputs": []
    }
  ]
}